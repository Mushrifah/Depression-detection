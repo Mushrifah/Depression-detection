{
 "cells": [
  {
   "cell_type": "code",
   "execution_count": 1,
   "id": "bccfaaf2",
   "metadata": {},
   "outputs": [],
   "source": [
    "import pandas as pd\n",
    "import matplotlib.pyplot as plt \n",
    "import numpy as np "
   ]
  },
  {
   "cell_type": "code",
   "execution_count": 2,
   "id": "975c0d4f",
   "metadata": {},
   "outputs": [],
   "source": [
    "import pickle\n",
    "# loading\n",
    "with open('tokenizer.pickle', 'rb') as handle:\n",
    "    tokenizer = pickle.load(handle)"
   ]
  },
  {
   "cell_type": "code",
   "execution_count": 3,
   "id": "dc5637c2",
   "metadata": {},
   "outputs": [],
   "source": [
    "from keras.preprocessing.sequence import pad_sequences"
   ]
  },
  {
   "cell_type": "code",
   "execution_count": 4,
   "id": "047ec94d",
   "metadata": {},
   "outputs": [],
   "source": [
    "import os\n",
    "\n",
    "import tensorflow as tf\n",
    "from tensorflow import keras\n",
    "model = tf.keras.models.load_model('detector_model_finalX.h5')"
   ]
  },
  {
   "cell_type": "code",
   "execution_count": 5,
   "id": "7f6eff3a",
   "metadata": {},
   "outputs": [],
   "source": [
    "MAX_SEQUENCE_LENGTH = 240 # Max tweet size"
   ]
  },
  {
   "cell_type": "code",
   "execution_count": null,
   "id": "87e1aa91",
   "metadata": {},
   "outputs": [],
   "source": []
  },
  {
   "cell_type": "markdown",
   "id": "2eee5cbc",
   "metadata": {},
   "source": [
    "-"
   ]
  },
  {
   "cell_type": "code",
   "execution_count": 6,
   "id": "229266ac",
   "metadata": {},
   "outputs": [],
   "source": [
    "def label(text):\n",
    "    if(text>0.5):\n",
    "        print(\"Depressive\")\n",
    "    else:\n",
    "        print(\"Non-Depressive\")"
   ]
  },
  {
   "cell_type": "code",
   "execution_count": 21,
   "id": "62772626",
   "metadata": {},
   "outputs": [
    {
     "name": "stdout",
     "output_type": "stream",
     "text": [
      "Non-Depressive\n"
     ]
    }
   ],
   "source": [
    "test=[\"my life is happy and awesome\"]\n",
    "sequences_d = tokenizer.texts_to_sequences(test)\n",
    "data_d = pad_sequences(sequences_d, maxlen=MAX_SEQUENCE_LENGTH)\n",
    "test_predict = model.predict(data_d)\n",
    "label(test_predict)"
   ]
  },
  {
   "cell_type": "code",
   "execution_count": 8,
   "id": "85670127",
   "metadata": {},
   "outputs": [
    {
     "name": "stdout",
     "output_type": "stream",
     "text": [
      "['my life is boring and lonely']\n",
      "Non-Depressive\n"
     ]
    }
   ],
   "source": [
    "test2=[\"my life is boring and lonely\"]\n",
    "print(test2)\n",
    "sequences_d = tokenizer.texts_to_sequences(test)\n",
    "data_d = pad_sequences(sequences_d, maxlen=MAX_SEQUENCE_LENGTH)\n",
    "test_predict = model.predict(data_d)\n",
    "label(test_predict)"
   ]
  },
  {
   "cell_type": "markdown",
   "id": "acac4896",
   "metadata": {},
   "source": [
    "-"
   ]
  },
  {
   "cell_type": "code",
   "execution_count": 9,
   "id": "7d1e726e",
   "metadata": {},
   "outputs": [],
   "source": [
    "def label1(text):\n",
    "    text=text.flatten()\n",
    "    for i in range(0,len(text)):\n",
    "        if(text[i]>0.5):\n",
    "            print(\"Depressive\")\n",
    "        else:\n",
    "            print(\"Non-Depressive\")"
   ]
  },
  {
   "cell_type": "code",
   "execution_count": 10,
   "id": "ef558243",
   "metadata": {},
   "outputs": [
    {
     "name": "stdout",
     "output_type": "stream",
     "text": [
      "Extreme sadness, lack of energy, hopelessness.\n",
      "Very rewarding when a patient hugs you and tells you they feel great after changing the diet and daily habits.\n",
      "feeling lonely and leading a boring life.\n",
      "happy and best.\n",
      "Depressive\n",
      "Non-Depressive\n",
      "Depressive\n",
      "Non-Depressive\n"
     ]
    }
   ],
   "source": [
    "test1=['Extreme sadness, lack of energy, hopelessness.',\n",
    "                  'Very rewarding when a patient hugs you and tells you they feel great after changing the diet and daily habits.',\n",
    "                  'feeling lonely and leading a boring life.',\n",
    "                  'happy and best.']\n",
    "sequences_d = tokenizer.texts_to_sequences(test1)\n",
    "data_d = pad_sequences(sequences_d, maxlen=MAX_SEQUENCE_LENGTH)\n",
    "test_predict = model.predict(data_d)\n",
    "for i in range(len(test1)):\n",
    "    print(test1[i])\n",
    "label1(test_predict)"
   ]
  },
  {
   "cell_type": "markdown",
   "id": "8e76f0c5",
   "metadata": {},
   "source": [
    "-"
   ]
  },
  {
   "cell_type": "code",
   "execution_count": 11,
   "id": "176e160b",
   "metadata": {},
   "outputs": [
    {
     "name": "stderr",
     "output_type": "stream",
     "text": [
      "[nltk_data] Downloading package stopwords to\n",
      "[nltk_data]     C:\\Users\\Admin\\AppData\\Roaming\\nltk_data...\n",
      "[nltk_data]   Package stopwords is already up-to-date!\n",
      "[nltk_data] Downloading package punkt to\n",
      "[nltk_data]     C:\\Users\\Admin\\AppData\\Roaming\\nltk_data...\n",
      "[nltk_data]   Package punkt is already up-to-date!\n",
      "[nltk_data] Downloading package wordnet to\n",
      "[nltk_data]     C:\\Users\\Admin\\AppData\\Roaming\\nltk_data...\n",
      "[nltk_data]   Package wordnet is already up-to-date!\n"
     ]
    }
   ],
   "source": [
    "import text2emotion as te\n",
    "def emo(text):\n",
    "    em1={'Happy':[0.0], 'Angry':[0.0], 'Surprise':[0.0], 'Sad':[0.0], 'Fear':[0.0]}\n",
    "    \n",
    "    for i in range(0,len(text)):\n",
    "        emo1 = te.get_emotion(text[i])\n",
    "        k=emo1.values()\n",
    "        v1=list(k)\n",
    "        em1['Happy'].append(v1[0])\n",
    "        em1['Angry'].append(v1[1])\n",
    "        em1['Surprise'].append(v1[2])\n",
    "        em1['Sad'].append(v1[3])\n",
    "        em1['Fear'].append(v1[4])\n",
    "    em_df= pd.DataFrame.from_dict(em1)\n",
    "    em_df=em_df[1:]\n",
    "    a=em_df.mean()\n",
    "    #print(em_df.mean())\n",
    "    print(a)\n",
    "    plt.bar(a.index, a.values)\n",
    "    plt.xlabel(\"Emotions used for text\")\n",
    "    plt.ylabel(\"Numeric value assigned\")\n",
    "    plt.title(\"Emotion recognition of user\")\n",
    "    plt.show()\n",
    "    del em_df\n",
    "    #return a"
   ]
  },
  {
   "cell_type": "code",
   "execution_count": 14,
   "id": "03616a8d",
   "metadata": {},
   "outputs": [
    {
     "name": "stdout",
     "output_type": "stream",
     "text": [
      "Happy       0.00\n",
      "Angry       0.00\n",
      "Surprise    0.00\n",
      "Sad         0.67\n",
      "Fear        0.33\n",
      "dtype: float64\n"
     ]
    },
    {
     "data": {
      "image/png": "[encoded data removed]",
      "text/plain": [
       "<Figure size 432x288 with 1 Axes>"
      ]
     },
     "metadata": {
      "needs_background": "light"
     },
     "output_type": "display_data"
    }
   ],
   "source": [
    "emo(test2)"
   ]
  },
  {
   "cell_type": "code",
   "execution_count": 12,
   "id": "9e4b427e",
   "metadata": {},
   "outputs": [
    {
     "name": "stdout",
     "output_type": "stream",
     "text": [
      "Happy       0.2500\n",
      "Angry       0.0000\n",
      "Surprise    0.1250\n",
      "Sad         0.4175\n",
      "Fear        0.2075\n",
      "dtype: float64\n"
     ]
    },
    {
     "data": {
      "image/png": "[encoded data removed]",
      "text/plain": [
       "<Figure size 432x288 with 1 Axes>"
      ]
     },
     "metadata": {
      "needs_background": "light"
     },
     "output_type": "display_data"
    }
   ],
   "source": [
    "emo(test1)"
   ]
  },
  {
   "cell_type": "code",
   "execution_count": null,
   "id": "49252a8e",
   "metadata": {},
   "outputs": [],
   "source": []
  }
 ],
 "metadata": {
  "kernelspec": {
   "display_name": "Python 3",
   "language": "python",
   "name": "python3"
  },
  "language_info": {
   "codemirror_mode": {
    "name": "ipython",
    "version": 3
   },
   "file_extension": ".py",
   "mimetype": "text/x-python",
   "name": "python",
   "nbconvert_exporter": "python",
   "pygments_lexer": "ipython3",
   "version": "3.8.8"
  }
 },
 "nbformat": 4,
 "nbformat_minor": 5
}
